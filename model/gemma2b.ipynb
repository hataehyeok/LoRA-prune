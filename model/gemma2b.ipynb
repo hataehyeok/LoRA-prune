{
 "cells": [
  {
   "cell_type": "code",
   "execution_count": null,
   "metadata": {},
   "outputs": [
    {
     "ename": "",
     "evalue": "",
     "output_type": "error",
     "traceback": [
      "\u001b[1;31mRunning cells with 'llama3-prune (Python 3.8.20)' requires the ipykernel package.\n",
      "\u001b[1;31mRun the following command to install 'ipykernel' into the Python environment. \n",
      "\u001b[1;31mCommand: 'conda install -n llama3-prune ipykernel --update-deps --force-reinstall'"
     ]
    }
   ],
   "source": [
    "# import os\n",
    "# import torch\n",
    "# import torch.distributed as dist\n",
    "# from torch.utils.data import DataLoader\n",
    "\n",
    "# import requests\n",
    "# from datasets import load_dataset, Dataset\n",
    "# from transformers import (\n",
    "#     AutoTokenizer,\n",
    "#     AutoModelForCausalLM,\n",
    "#     BitsAndBytesConfig,\n",
    "#     TrainingArguments,\n",
    "#     get_scheduler,\n",
    "# )\n",
    "# from accelerate import init_empty_weights, infer_auto_device_map\n",
    "# from peft import LoraConfig\n",
    "# from trl import SFTTrainer\n",
    "# from config import API_URL_2, HEADERS_2"
   ]
  },
  {
   "cell_type": "code",
   "execution_count": null,
   "metadata": {},
   "outputs": [],
   "source": [
    "import torch\n",
    "from datasets import Dataset, load_dataset\n",
    "from transformers import AutoTokenizer, AutoModelForCausalLM, BitsAndBytesConfig, pipeline, TrainingArguments\n",
    "from peft import LoraConfig, PeftModel\n",
    "from trl import SFTTrainer"
   ]
  },
  {
   "cell_type": "code",
   "execution_count": null,
   "metadata": {},
   "outputs": [],
   "source": [
    "from datasets import load_dataset\n",
    "dataset = load_dataset(\"daekeun-ml/naver-news-summarization-ko\")\n",
    "\n",
    "dataset\n",
    "dataset['train'][0]"
   ]
  },
  {
   "cell_type": "code",
   "execution_count": null,
   "metadata": {},
   "outputs": [],
   "source": [
    "# BASE_MODEL = \"google/gemma-2b-it\"\n",
    "\n",
    "# model = AutoModelForCausalLM.from_pretrained(BASE_MODEL, device_map={\"\":0})\n",
    "# tokenizer = AutoTokenizer.from_pretrained(BASE_MODEL, add_special_tokens=True)"
   ]
  },
  {
   "cell_type": "code",
   "execution_count": null,
   "metadata": {},
   "outputs": [],
   "source": [
    "# doc = dataset['train']['document'][0]\n",
    "# pipe = pipeline(\"text-generation\", model=model, tokenizer=tokenizer, max_new_tokens=512)\n",
    "\n",
    "# messages = [\n",
    "#     {\n",
    "#         \"role\": \"user\",\n",
    "#         \"content\": \"다음 글을 요약해주세요:\\n\\n{}\".format(doc)\n",
    "#     }\n",
    "# ]\n",
    "# prompt = pipe.tokenizer.apply_chat_template(messages, tokenize=False, add_generation_prompt=True)"
   ]
  },
  {
   "cell_type": "code",
   "execution_count": null,
   "metadata": {},
   "outputs": [],
   "source": [
    "# prompt"
   ]
  },
  {
   "cell_type": "code",
   "execution_count": null,
   "metadata": {},
   "outputs": [],
   "source": [
    "# outputs = pipe(\n",
    "#     prompt,\n",
    "#     do_sample=True,\n",
    "#     temperature=0.2,\n",
    "#     top_k=50,\n",
    "#     top_p=0.95,\n",
    "#     add_special_tokens=True\n",
    "# )\n",
    "# print(outputs[0][\"generated_text\"][len(prompt):])"
   ]
  },
  {
   "cell_type": "code",
   "execution_count": null,
   "metadata": {},
   "outputs": [],
   "source": [
    "def generate_prompt(example):\n",
    "    prompt_list = []\n",
    "    for i in range(len(example['document'])):\n",
    "        prompt_list.append(r\"\"\"<bos><start_of_turn>user\n",
    "다음 글을 요약해주세요:\n",
    "\n",
    "{}<end_of_turn>\n",
    "<start_of_turn>model\n",
    "{}<end_of_turn><eos>\"\"\".format(example['document'][i], example['summary'][i]))\n",
    "    return prompt_list\n",
    "\n",
    "train_data = dataset['train']\n",
    "print(generate_prompt(train_data[:1])[0])"
   ]
  },
  {
   "cell_type": "code",
   "execution_count": null,
   "metadata": {},
   "outputs": [],
   "source": [
    "import torch\n",
    "from peft import LoraConfig\n",
    "from transformers import BitsAndBytesConfig, AutoModelForCausalLM, AutoTokenizer\n",
    "\n",
    "lora_config = LoraConfig(\n",
    "    r=6,\n",
    "    lora_alpha = 8,\n",
    "    lora_dropout = 0.05,\n",
    "    target_modules=[\"q_proj\", \"o_proj\", \"k_proj\", \"v_proj\", \"gate_proj\", \"up_proj\", \"down_proj\"],\n",
    "    task_type=\"CAUSAL_LM\",\n",
    ")\n",
    "\n",
    "bnb_config = BitsAndBytesConfig(\n",
    "    load_in_4bit=True,\n",
    "    bnb_4bit_quant_type=\"nf4\",\n",
    "    bnb_4bit_compute_dtype=torch.float16\n",
    ")\n",
    "\n",
    "# bnb_config = BitsAndBytesConfig(\n",
    "#     load_in_4bit=True,\n",
    "#     bnb_4bit_quant_type=\"nf4\",\n",
    "#     bnb_4bit_compute_dtype=\"float16\",\n",
    "#     bnb_4bit_use_double_quant=True\n",
    "# )\n",
    "\n",
    "BASE_MODEL = \"google/gemma-2b-it\"\n",
    "# model = AutoModelForCausalLM.from_pretrained(BASE_MODEL, device_map=\"auto\", quantization_config=bnb_config)\n",
    "model = AutoModelForCausalLM.from_pretrained(\n",
    "    BASE_MODEL,\n",
    "    quantization_config=bnb_config,\n",
    "    device_map=None,\n",
    "    low_cpu_mem_usage=True,\n",
    "    )\n",
    "tokenizer = AutoTokenizer.from_pretrained(BASE_MODEL, add_special_tokens=True)\n",
    "tokenizer.padding_side = 'right'"
   ]
  },
  {
   "cell_type": "code",
   "execution_count": null,
   "metadata": {},
   "outputs": [],
   "source": [
    "trainer = SFTTrainer(\n",
    "    model=model,\n",
    "    train_dataset=train_data,\n",
    "    max_seq_length=512,\n",
    "    args=TrainingArguments(\n",
    "        output_dir=\"outputs\",\n",
    "#        num_train_epochs = 1,\n",
    "        max_steps=3000,\n",
    "        per_device_train_batch_size=1,\n",
    "        gradient_accumulation_steps=4,\n",
    "        optim=\"paged_adamw_8bit\",\n",
    "        warmup_steps=0.03,\n",
    "        learning_rate=2e-4,\n",
    "        fp16=True,\n",
    "        logging_steps=100,\n",
    "        push_to_hub=False,\n",
    "        report_to='none',\n",
    "    ),\n",
    "    peft_config=lora_config,\n",
    "    formatting_func=generate_prompt,\n",
    ")"
   ]
  },
  {
   "cell_type": "code",
   "execution_count": null,
   "metadata": {},
   "outputs": [],
   "source": [
    "trainer.train()"
   ]
  },
  {
   "cell_type": "code",
   "execution_count": null,
   "metadata": {},
   "outputs": [],
   "source": [
    "ADAPTER_MODEL = \"lora_adapter\"\n",
    "\n",
    "trainer.model.save_pretrained(ADAPTER_MODEL)"
   ]
  },
  {
   "cell_type": "code",
   "execution_count": null,
   "metadata": {},
   "outputs": [],
   "source": [
    "model = AutoModelForCausalLM.from_pretrained(BASE_MODEL, device_map='auto', torch_dtype=torch.float16)\n",
    "model = PeftModel.from_pretrained(model, ADAPTER_MODEL, device_map='auto', torch_dtype=torch.float16)\n",
    "\n",
    "model = model.merge_and_unload()\n",
    "model.save_pretrained('gemma-2b-it-sum-ko')"
   ]
  },
  {
   "cell_type": "code",
   "execution_count": null,
   "metadata": {},
   "outputs": [],
   "source": [
    "# # pip install accelerate\n",
    "# from transformers import AutoTokenizer, AutoModelForCausalLM\n",
    "\n",
    "# tokenizer = AutoTokenizer.from_pretrained(\"google/gemma-2b\")\n",
    "# model = AutoModelForCausalLM.from_pretrained(\"google/gemma-2b\", device_map=\"auto\")\n",
    "\n",
    "# input_text = \"Write me a poem about Machine Learning.\"\n",
    "# input_ids = tokenizer(input_text, return_tensors=\"pt\").to(\"cuda\")\n",
    "\n",
    "# outputs = model.generate(**input_ids)\n",
    "# print(tokenizer.decode(outputs[0]))"
   ]
  },
  {
   "cell_type": "code",
   "execution_count": null,
   "metadata": {},
   "outputs": [],
   "source": [
    "# def get_model_and_tokenizer(model_id):\n",
    "#     tokenizer = AutoTokenizer.from_pretrained(model_id)\n",
    "#     tokenizer.pad_token = tokenizer.eos_token\n",
    "#     bnb_config = BitsAndBytesConfig(\n",
    "#         load_in_4bit=True,\n",
    "#         bnb_4bit_quant_type=\"nf4\",\n",
    "#         bnb_4bit_compute_dtype=\"float16\",\n",
    "#         bnb_4bit_use_double_quant=True\n",
    "#     )\n",
    "    \n",
    "#     model = AutoModelForCausalLM.from_pretrained(\n",
    "#         model_id,\n",
    "#         quantization_config=bnb_config,\n",
    "#         device_map=None,\n",
    "#         low_cpu_mem_usage=True,\n",
    "#     )\n",
    "    \n",
    "#     device_map = infer_auto_device_map(model, max_memory={0: \"16GiB\", \"cpu\": \"32GiB\"})\n",
    "#     model = AutoModelForCausalLM.from_pretrained(\n",
    "#         model_id,\n",
    "#         quantization_config=bnb_config,\n",
    "#         device_map=device_map,\n",
    "#         low_cpu_mem_usage=True\n",
    "#     )\n",
    "    \n",
    "#     model.config.use_cache = False\n",
    "#     model.config.pretraining_tp = 1\n",
    "#     model.config.hidden_activation = \"gelu_pytorch_tanh\"\n",
    "#     model.gradient_checkpointing_enable()\n",
    "#     return model, tokenizer"
   ]
  },
  {
   "cell_type": "code",
   "execution_count": null,
   "metadata": {},
   "outputs": [],
   "source": [
    "# def preprocess_function(examples):\n",
    "#     if \"sentence2\" in examples:\n",
    "#         inputs = examples[\"sentence1\"] + \" [SEP] \" + examples[\"sentence2\"]\n",
    "#     else:\n",
    "#         inputs = examples[\"sentence\"]\n",
    "#     labels = examples[\"label\"]\n",
    "#     return {\"input_text\": inputs, \"labels\": labels}"
   ]
  },
  {
   "cell_type": "code",
   "execution_count": null,
   "metadata": {},
   "outputs": [],
   "source": [
    "# def model_finetuning():\n",
    "#     def query(payload):\n",
    "#         response = requests.post(API_URL_2, headers=HEADERS_2, json=payload)\n",
    "#         return response.json()\n",
    "    \n",
    "#     output = query({\n",
    "#         \"inputs\": \"Can you please let us know more details about your \",\n",
    "#     })\n",
    "#     print(output)\n",
    "\n",
    "#     model_id = \"google/gemma-2b\"\n",
    "#     model, tokenizer = get_model_and_tokenizer(model_id)\n",
    "\n",
    "#     glue_dataset = load_dataset(\"glue\", \"sst2\")\n",
    "\n",
    "#     tokenized_dataset = glue_dataset.map(preprocess_function, batched=True)\n",
    "#     tokenized_dataset = tokenized_dataset.map(\n",
    "#         lambda examples: tokenizer(examples[\"input_text\"], truncation=True, padding=\"max_length\"),\n",
    "#         batched=True,\n",
    "#     )\n",
    "\n",
    "#     # LoRA configuration\n",
    "#     peft_config = LoraConfig(\n",
    "#         r=8,  # Low-rank adaptation size\n",
    "#         lora_alpha=16, \n",
    "#         lora_dropout=0.05, \n",
    "#         bias=\"none\", \n",
    "#         task_type=\"CAUSAL_LM\"\n",
    "#     )\n",
    "\n",
    "#     # Training arguments\n",
    "#     training_args = TrainingArguments(\n",
    "#         output_dir=\"./gemma-glue\",\n",
    "#         per_device_train_batch_size=1,  # Reduce batch size\n",
    "#         gradient_accumulation_steps=32,\n",
    "#         num_train_epochs=3,\n",
    "#         logging_steps=10,\n",
    "#         learning_rate=2e-4,\n",
    "#         evaluation_strategy=\"steps\",\n",
    "#         save_steps=500,\n",
    "#         save_total_limit=2,\n",
    "#         fp16=True\n",
    "#     )\n",
    "\n",
    "#     trainer = SFTTrainer(\n",
    "#         model=model,\n",
    "#         train_dataset=tokenized_dataset[\"train\"],\n",
    "#         eval_dataset=tokenized_dataset[\"validation\"],\n",
    "#         tokenizer=tokenizer,\n",
    "#         peft_config=peft_config,\n",
    "#         args=training_args\n",
    "#     )\n",
    "\n",
    "#     trainer.train()\n",
    "\n",
    "#     results = trainer.evaluate()\n",
    "#     print(results)\n",
    "\n",
    "#     trainer.save_model(\"./gemma2b-glue-finetuned\")\n",
    "#     tokenizer.save_pretrained(\"./gemma2b-glue-finetuned\")\n"
   ]
  },
  {
   "cell_type": "code",
   "execution_count": null,
   "metadata": {},
   "outputs": [],
   "source": [
    "# model_finetuning()"
   ]
  }
 ],
 "metadata": {
  "kernelspec": {
   "display_name": "llama3-prune",
   "language": "python",
   "name": "python3"
  },
  "language_info": {
   "codemirror_mode": {
    "name": "ipython",
    "version": 3
   },
   "file_extension": ".py",
   "mimetype": "text/x-python",
   "name": "python",
   "nbconvert_exporter": "python",
   "pygments_lexer": "ipython3",
   "version": "3.8.20"
  }
 },
 "nbformat": 4,
 "nbformat_minor": 2
}
